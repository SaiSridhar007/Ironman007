{
  "nbformat": 4,
  "nbformat_minor": 0,
  "metadata": {
    "colab": {
      "name": "4/12/19.ipynb",
      "provenance": []
    },
    "kernelspec": {
      "name": "python3",
      "display_name": "Python 3"
    }
  },
  "cells": [
    {
      "cell_type": "markdown",
      "metadata": {
        "id": "HjkyzpYnBACU",
        "colab_type": "text"
      },
      "source": [
        "### Functional Programming\n",
        "1. simple\n",
        "2. easy to understand\n",
        "3. better reusability\n",
        "4. length of program will be divided into sub programs"
      ]
    },
    {
      "cell_type": "code",
      "metadata": {
        "id": "edAqYQWDBhRc",
        "colab_type": "code",
        "colab": {}
      },
      "source": [
        "### Syntax  \n",
        "def nameofFunction(<parameters>):\n",
        "  statements\n",
        "  return"
      ],
      "execution_count": 0,
      "outputs": []
    },
    {
      "cell_type": "code",
      "metadata": {
        "id": "78crRnenCNRg",
        "colab_type": "code",
        "colab": {
          "base_uri": "https://localhost:8080/",
          "height": 51
        },
        "outputId": "d2817b76-8da2-44a7-e467-3108a0c12707"
      },
      "source": [
        "# Read a number\n",
        "# Print the Even digit sum from the number\n",
        "\n",
        "#Input : 1234 \n",
        "# Output : 6(2+4)\n",
        "\n",
        "n = int(input(\"Enter the value of n\"))\n",
        "def evendigitsum(n):\n",
        "  s = 0\n",
        "  while n != 0:\n",
        "    r = n%10\n",
        "    if r%2 == 0:\n",
        "      s = s+r\n",
        "    n = n//10\n",
        "  return s\n",
        "evendigitsum(n)"
      ],
      "execution_count": 10,
      "outputs": [
        {
          "output_type": "stream",
          "text": [
            "Enter the value of n1568\n"
          ],
          "name": "stdout"
        },
        {
          "output_type": "execute_result",
          "data": {
            "text/plain": [
              "14"
            ]
          },
          "metadata": {
            "tags": []
          },
          "execution_count": 10
        }
      ]
    },
    {
      "cell_type": "code",
      "metadata": {
        "id": "AP6NTNLWEt1N",
        "colab_type": "code",
        "colab": {}
      },
      "source": [
        "def evennumbers(n):\n",
        "  s=0\n",
        "  if "
      ],
      "execution_count": 0,
      "outputs": []
    }
  ]
}